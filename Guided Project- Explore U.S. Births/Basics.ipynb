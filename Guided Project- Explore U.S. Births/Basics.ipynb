{
 "cells": [
  {
   "cell_type": "code",
   "execution_count": 16,
   "metadata": {
    "collapsed": true
   },
   "outputs": [],
   "source": [
    "string=open(\"US_births_1994-2003_CDC_NCHS.csv\").read()"
   ]
  },
  {
   "cell_type": "code",
   "execution_count": 17,
   "metadata": {
    "collapsed": false
   },
   "outputs": [],
   "source": [
    "string=string.split('\\n')"
   ]
  },
  {
   "cell_type": "code",
   "execution_count": 18,
   "metadata": {
    "collapsed": false
   },
   "outputs": [
    {
     "name": "stdout",
     "output_type": "stream",
     "text": [
      "['year,month,date_of_month,day_of_week,births', '1994,1,1,6,8096', '1994,1,2,7,7772', '1994,1,3,1,10142', '1994,1,4,2,11248', '1994,1,5,3,11053', '1994,1,6,4,11406', '1994,1,7,5,11251', '1994,1,8,6,8653', '1994,1,9,7,7910']\n"
     ]
    }
   ],
   "source": [
    "print(string[:10])"
   ]
  },
  {
   "cell_type": "code",
   "execution_count": 21,
   "metadata": {
    "collapsed": false
   },
   "outputs": [],
   "source": [
    "def read_csv(string):\n",
    "    string_list=open(string).read().split('\\n')[1:]\n",
    "    \n",
    "    final_list=[]\n",
    "    \n",
    "    for item in string_list:\n",
    "        int_fields=[]\n",
    "        \n",
    "        string_fields=item.split(',')\n",
    "        \n",
    "        for term in string_fields:\n",
    "            \n",
    "            int_fields.append(int(term))\n",
    "        \n",
    "        final_list.append(int_fields)\n",
    "        \n",
    "    return final_list\n",
    "\n",
    "    "
   ]
  },
  {
   "cell_type": "code",
   "execution_count": 22,
   "metadata": {
    "collapsed": false
   },
   "outputs": [
    {
     "name": "stdout",
     "output_type": "stream",
     "text": [
      "[[1994, 1, 1, 6, 8096], [1994, 1, 2, 7, 7772], [1994, 1, 3, 1, 10142], [1994, 1, 4, 2, 11248], [1994, 1, 5, 3, 11053], [1994, 1, 6, 4, 11406], [1994, 1, 7, 5, 11251], [1994, 1, 8, 6, 8653], [1994, 1, 9, 7, 7910], [1994, 1, 10, 1, 10498]]\n"
     ]
    }
   ],
   "source": [
    "cdc_list=read_csv(\"US_births_1994-2003_CDC_NCHS.csv\")\n",
    "print(cdc_list[:10])"
   ]
  },
  {
   "cell_type": "code",
   "execution_count": 25,
   "metadata": {
    "collapsed": true
   },
   "outputs": [],
   "source": [
    "def month_births(input_list):\n",
    "    \n",
    "    births_per_month={}\n",
    "    \n",
    "    for a_list in input_list:\n",
    "        \n",
    "        month=a_list[1]\n",
    "        births=a_list[4]\n",
    "        \n",
    "        if month in births_per_month:\n",
    "            \n",
    "            births_per_month[month] +=births\n",
    "        else:\n",
    "            births_per_month[month]=births\n",
    "            \n",
    "    return births_per_month"
   ]
  },
  {
   "cell_type": "code",
   "execution_count": 26,
   "metadata": {
    "collapsed": false
   },
   "outputs": [],
   "source": [
    "cdc_month_births=month_births(cdc_list)"
   ]
  },
  {
   "cell_type": "code",
   "execution_count": 27,
   "metadata": {
    "collapsed": false
   },
   "outputs": [
    {
     "name": "stdout",
     "output_type": "stream",
     "text": [
      "{1: 3232517, 2: 3018140, 3: 3322069, 4: 3185314, 5: 3350907, 6: 3296530, 7: 3498783, 8: 3525858, 9: 3439698, 10: 3378814, 11: 3171647, 12: 3301860}\n"
     ]
    }
   ],
   "source": [
    "print(cdc_month_births)"
   ]
  },
  {
   "cell_type": "code",
   "execution_count": 34,
   "metadata": {
    "collapsed": true
   },
   "outputs": [],
   "source": [
    "def dow_births(list_of_lists):\n",
    "    \n",
    "    births_per_day_of_week={}\n",
    "    \n",
    "    for a_list in list_of_lists:\n",
    "        \n",
    "        day=a_list[3]\n",
    "        births=a_list[4]\n",
    "        \n",
    "        if day in births_per_day_of_week:\n",
    "            \n",
    "            births_per_day_of_week[day] += births\n",
    "            \n",
    "        else:\n",
    "            births_per_day_of_week[day] =births\n",
    "            \n",
    "    return births_per_day_of_week"
   ]
  },
  {
   "cell_type": "code",
   "execution_count": 35,
   "metadata": {
    "collapsed": false
   },
   "outputs": [],
   "source": [
    "cdc_day_births=dow_births(cdc_list)"
   ]
  },
  {
   "cell_type": "code",
   "execution_count": 36,
   "metadata": {
    "collapsed": false
   },
   "outputs": [
    {
     "name": "stdout",
     "output_type": "stream",
     "text": [
      "{1: 5789166, 2: 6446196, 3: 6322855, 4: 6288429, 5: 6233657, 6: 4562111, 7: 4079723}\n"
     ]
    }
   ],
   "source": [
    "print(cdc_day_births)"
   ]
  },
  {
   "cell_type": "code",
   "execution_count": 41,
   "metadata": {
    "collapsed": true
   },
   "outputs": [],
   "source": [
    "def calc_counts(data,column):\n",
    "    \n",
    "    births_per_unique_val_column={}\n",
    "    \n",
    "    for a_list in data:\n",
    "        \n",
    "        spec_time_horizon=a_list[column]\n",
    "        births=a_list[4]\n",
    "        \n",
    "        \n",
    "        if spec_time_horizon in births_per_unique_val_column:\n",
    "            \n",
    "            births_per_unique_val_column[spec_time_horizon] += births\n",
    "        else:\n",
    "            \n",
    "            births_per_unique_val_column[spec_time_horizon] = births\n",
    "            \n",
    "    return births_per_unique_val_column\n",
    "    "
   ]
  },
  {
   "cell_type": "code",
   "execution_count": 42,
   "metadata": {
    "collapsed": false
   },
   "outputs": [],
   "source": [
    "cdc_year_births=calc_counts(cdc_list,0)\n",
    "cdc_month_births=calc_counts(cdc_list,1)\n",
    "cdc_dom_births=calc_counts(cdc_list,2)\n",
    "cdc_dow_births=calc_counts(cdc_list,3)"
   ]
  },
  {
   "cell_type": "code",
   "execution_count": 43,
   "metadata": {
    "collapsed": true
   },
   "outputs": [],
   "source": [
    "def min_max(dictionary):\n",
    "    \n",
    "    min_dict=min(dictionary)\n",
    "    max_dict=max(dictionary)\n",
    "    \n",
    "    return min_dict, max_dict"
   ]
  },
  {
   "cell_type": "code",
   "execution_count": 44,
   "metadata": {
    "collapsed": false
   },
   "outputs": [
    {
     "data": {
      "text/plain": [
       "(0, 6)"
      ]
     },
     "execution_count": 44,
     "metadata": {},
     "output_type": "execute_result"
    }
   ],
   "source": [
    "min_max({0:3,3:9,2:10,6:2})"
   ]
  },
  {
   "cell_type": "code",
   "execution_count": 46,
   "metadata": {
    "collapsed": true
   },
   "outputs": [],
   "source": [
    "def calc_counts_diff(data,column,value_in_column,start_year,end_year):\n",
    "    \n",
    "    births_per_year_unique_val_in_column={}\n",
    "    \n",
    "    for a_list in data:\n",
    "        \n",
    "        year=a_list[0]\n",
    "        births=a_list[4]\n",
    "        \n",
    "        if a_list[column]==value_in_column:\n",
    "        \n",
    "            if year in births_per_year_unique_val_in_column:\n",
    "\n",
    "                births_per_year_unique_val_in_column[year] += births\n",
    "            else:\n",
    "\n",
    "                births_per_year_unique_val_in_column[year] = births\n",
    "                \n",
    "    difference=births_per_year_unique_val_in_column[end_year]-births_per_year_unique_val_in_column[start_year]\n",
    "    \n",
    "    return difference"
   ]
  },
  {
   "cell_type": "code",
   "execution_count": 47,
   "metadata": {
    "collapsed": true
   },
   "outputs": [],
   "source": [
    "diff_sat_births_1994_2003=calc_counts_diff(cdc_list,3,6,1994,2003)"
   ]
  },
  {
   "cell_type": "code",
   "execution_count": 48,
   "metadata": {
    "collapsed": false
   },
   "outputs": [
    {
     "name": "stdout",
     "output_type": "stream",
     "text": [
      "-27287\n"
     ]
    }
   ],
   "source": [
    "print(diff_sat_births_1994_2003)"
   ]
  },
  {
   "cell_type": "markdown",
   "metadata": {},
   "source": [
    "The CDC dataset contains birth data from 1994 to 2003 while the SSA dataset contains birth data from 2000 to 2014. Four years of data overlap will be encountered in combining both datasets. It is likely that within the overlap, there may be missing data (i.e. CDC data may contain 400 births in a particular month of the year while SSA may contain 398 birth in the same month, where SSA dataset amy contain several birth registrations that may not be in the CDC dataset.). Assuming that the overlap is perfect ( i.e. whichever dataset has more births covers all of the data from the dataset with fewer births), the data from the row which contains more births can be stored in the combine"
   ]
  }
 ],
 "metadata": {
  "anaconda-cloud": {},
  "kernelspec": {
   "display_name": "Python 3",
   "language": "python",
   "name": "python3"
  },
  "language_info": {
   "codemirror_mode": {
    "name": "ipython",
    "version": 3
   },
   "file_extension": ".py",
   "mimetype": "text/x-python",
   "name": "python",
   "nbconvert_exporter": "python",
   "pygments_lexer": "ipython3",
   "version": "3.4.3"
  }
 },
 "nbformat": 4,
 "nbformat_minor": 1
}
